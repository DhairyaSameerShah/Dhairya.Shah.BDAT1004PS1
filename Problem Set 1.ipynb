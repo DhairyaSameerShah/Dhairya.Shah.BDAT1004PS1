{
 "cells": [
  {
   "cell_type": "markdown",
   "metadata": {},
   "source": [
    "## `Question 1:`\n",
    "### What data type is each of the following?"
   ]
  },
  {
   "cell_type": "markdown",
   "metadata": {},
   "source": [
    "- 5 = **Integer**\n",
    "- 5.0 = **Float**\n",
    "- 5 > 1 = **Boolean**\n",
    "- '5' = **String**\n",
    "- 5 * 2 = **Integer**\n",
    "- '5' * 2 = **String**\n",
    "- '5' + '2' = **String**\n",
    "- 5 / 2 = **Float**\n",
    "- 5 % 2 = **Integer**\n",
    "- {5, 2, 1} = **Set**\n",
    "- 5 == 3 = **Boolean**\n",
    "- Pi (the number) = **Float**"
   ]
  },
  {
   "cell_type": "markdown",
   "metadata": {},
   "source": [
    "## `Question 2:`\n",
    "### Write (and evaluate) C# expressions that answer these questions:\n",
    "- 2.A) How many letters are there in 'Supercalifragilisticexpialidocious'?\n",
    "- 2.B) Does 'Supercalifragilisticexpialidocious' contain 'ice' as a substring?\n",
    "- 2.C) Which of the following words is the longest: Supercalifragilisticexpialidocious, Honorificabilitudinitatibus, or Bababadalgharaghtakamminarronnkonn?\n",
    "- 2.D) Which composer comes first in the dictionary: 'Berlioz', 'Borodin', 'Brian','Bartok', 'Bellini', 'Buxtehude', 'Bernstein'. Which one comes last?"
   ]
  },
  {
   "cell_type": "code",
   "execution_count": 1,
   "metadata": {
    "scrolled": false
   },
   "outputs": [
    {
     "name": "stdout",
     "output_type": "stream",
     "text": [
      "String 1: Supercalifragilisticexpialidocious\n",
      "String 2: Honorificabilitudinitatibus\n",
      "String 3: Bababadalgharaghtakamminarronnkonn\n",
      "\n",
      "\n",
      "<------------------------------------------- Answer 2.A ----------------------------------------->\n",
      "Length of 'Supercalifragilisticexpialidocious' is: 34\n",
      "\n",
      "\n",
      "<------------------------------------------- Answer 2.B ----------------------------------------->\n",
      "Does 'Supercalifragilisticexpialidocious' contain 'ice' as a substring ? True\n",
      "\n",
      "\n",
      "<------------------------------------------- Answer 2.C ----------------------------------------->\n",
      "Supercalifragilisticexpialidocious and Bababadalgharaghtakamminarronnkonn are equal in length !\n",
      "\n",
      "\n",
      "<------------------------------------------- Answer 2.D ----------------------------------------->\n",
      "First word in the dictionary is 'Bartok'\n",
      "Last word in the dictionary is 'Buxtehude'\n",
      "\n",
      "\n"
     ]
    }
   ],
   "source": [
    "string str1 = \"Supercalifragilisticexpialidocious\";                        // Declaring String\n",
    "string str2 = \"Honorificabilitudinitatibus\";\n",
    "string str3 = \"Bababadalgharaghtakamminarronnkonn\";\n",
    "\n",
    "Console.WriteLine(\"String 1: \" + str1);\n",
    "Console.WriteLine(\"String 2: \" + str2);\n",
    "Console.WriteLine(\"String 3: \" + str3);\n",
    "\n",
    "\n",
    "Console.WriteLine(\"\\n\");\n",
    "Console.WriteLine(\"<------------------------------------------- Answer 2.A ----------------------------------------->\");\n",
    "Console.WriteLine(\"Length of '\" + str1 + \"' is: \" + str1.Length);          // Length of string1\n",
    "\n",
    "\n",
    "Console.WriteLine(\"\\n\");\n",
    "Console.WriteLine(\"<------------------------------------------- Answer 2.B ----------------------------------------->\");\n",
    "String substring = \"ice\";\n",
    "Boolean result = str1.Contains(substring);                                 // Checking substring in a string\n",
    "Console.WriteLine(\"Does '{0}' contain '{1}' as a substring ? {2}\", str1, substring, result);\n",
    "\n",
    "\n",
    "Console.WriteLine(\"\\n\");\n",
    "Console.WriteLine(\"<------------------------------------------- Answer 2.C ----------------------------------------->\");\n",
    "if (str1.Length >= str2.Length)                                            // finding highest length from all 3 strings.\n",
    "{\n",
    "    if (str1.Length >= str3.Length)\n",
    "    {\n",
    "        Console.WriteLine(str1 + \" and \" + str3 + \" are equal in length !\");\n",
    "    }\n",
    "    else if (str1.Length >= str3.Length)\n",
    "    {\n",
    "        Console.WriteLine(str1 + \" is greater in length than \" + str3);\n",
    "    }\n",
    "    else\n",
    "    {\n",
    "        Console.WriteLine(str1 + \" is not equal or greater in length than \" + str3);\n",
    "    }\n",
    "}\n",
    "else if (str2.Length >= str3.Length)\n",
    "{\n",
    "    Console.WriteLine(str2 + \" and \" + str3 + \" are equal in length !\");\n",
    "}\n",
    "else if (str1.Length >= str3.Length)\n",
    "{\n",
    "    Console.WriteLine(str2 + \" is greater in length than \" + str3);\n",
    "}\n",
    "else\n",
    "{\n",
    "    Console.WriteLine(str2 + \" is not equal or greater in length than \" + str3);\n",
    "}\n",
    "\n",
    "\n",
    "Console.WriteLine(\"\\n\");\n",
    "Console.WriteLine(\"<------------------------------------------- Answer 2.D ----------------------------------------->\");\n",
    "string[] words = new string[7] { \"Berlioz\", \"Borodin\", \"Brian\", \"Bartok\", \"Bellini\", \"Buxtehude\", \"Bernstein\" };\n",
    "Array.Sort(words);                                                                // Sorting words according to dictionary.\n",
    "Console.WriteLine(\"First word in the dictionary is '{0}'\", words[0]);\n",
    "Console.WriteLine(\"Last word in the dictionary is '{0}'\", words[6]);\n",
    "Console.WriteLine(\"\\n\");"
   ]
  },
  {
   "cell_type": "markdown",
   "metadata": {},
   "source": [
    "## `Question 3:`\n",
    "### Implement function triangleArea(a,b,c) that takes as input the lengths of the 3 sides of a triangle and returns the area of the triangle. By Heron's formula, the area of a triangle with side lengths a, b, and c is s(s - a)(s -b)(s -c), where s = (a + b + c) /2."
   ]
  },
  {
   "cell_type": "code",
   "execution_count": 2,
   "metadata": {},
   "outputs": [
    {
     "name": "stdout",
     "output_type": "stream",
     "text": [
      "Area of Triangle is: 1.7320508075688772\r\n"
     ]
    }
   ],
   "source": [
    "static double triangleArea(double side1, double side2, double side3)                       // function\n",
    "{\n",
    "    double side = (side1 + side2 + side3) / 2;\n",
    "    return (double)Math.Sqrt(side * (side - side1) * (side - side2) * (side - side3));     // solution input\n",
    "}\n",
    "        \n",
    "\n",
    "{\n",
    "    double area = triangleArea(2, 2, 2);                                       // calling function\n",
    "    Console.WriteLine(\"Area of Triangle is: {0}\", area);\n",
    "}"
   ]
  },
  {
   "cell_type": "markdown",
   "metadata": {},
   "source": [
    "## `Question 4:`\n",
    "### Write a program in C# Sharp to separate odd and even integers in separate arrays."
   ]
  },
  {
   "cell_type": "code",
   "execution_count": 3,
   "metadata": {
    "scrolled": true
   },
   "outputs": [
    {
     "name": "stdout",
     "output_type": "stream",
     "text": [
      "\n",
      "The Even elements are :\n",
      "42 \n",
      "56 \n",
      "32 \n",
      "\n",
      "The Odd elements are :\n",
      "25 \n",
      "47 \n"
     ]
    }
   ],
   "source": [
    "int[] array1 = new int[5];                                             // defining arrays.\n",
    "array1[0] = 25;\n",
    "array1[1] = 47;\n",
    "array1[2] = 42;\n",
    "array1[3] = 56;\n",
    "array1[4] = 32;\n",
    "int[] array2 = new int[5];\n",
    "int[] array3 = new int[5];\n",
    "\n",
    "int i, j = 0, k = 0;\n",
    "\n",
    "for (i = 0; i < array1.Length ; i++)                                   // checking for even and odd.\n",
    "{\n",
    "    if (array1[i] % 2 == 0)\n",
    "    {\n",
    "        array2[j] = array1[i];                                         // storing value in an array2 if even.\n",
    "        j++;\n",
    "    }\n",
    "    else\n",
    "    {\n",
    "        array3[k] = array1[i];                                         // storing value in an array3 if odd.\n",
    "        k++;\n",
    "    }\n",
    "}\n",
    "\n",
    "Console.WriteLine(\"\\nThe Even elements are :\");                       \n",
    "for (i = 0; i < j; i++)\n",
    "{\n",
    "    Console.WriteLine(\"{0} \", array2[i]);                              // printing all even numbers\n",
    "}\n",
    "\n",
    "Console.WriteLine(\"\\nThe Odd elements are :\");                        \n",
    "for (i = 0; i < k; i++)\n",
    "{\n",
    "    Console.WriteLine(\"{0} \", array3[i]);                              // printing all odd numbers\n",
    "}"
   ]
  },
  {
   "cell_type": "markdown",
   "metadata": {},
   "source": [
    "## `Question 5:`\n",
    "### 5.A)    Write a function inside(x,y,x1,y1,x2,y2) that returns True or False depending on whether the point (x,y) lies in the rectangle with lower left corner (x1,y1) and upper right corner (x2,y2).\n",
    "\n",
    "### 5.B)    Use function inside() from part a. to write an expression that tests whether the point (1,1) lies in both of the following rectangles: one with lower left corner (0.3, 0.5) and upper right corner (1.1, 0.7) and the other with lower left corner (0.5, 0.2) and upper right corner (1.1, 2)."
   ]
  },
  {
   "cell_type": "code",
   "execution_count": 4,
   "metadata": {},
   "outputs": [
    {
     "name": "stdout",
     "output_type": "stream",
     "text": [
      "<----------------------------------------- Answer 5.a -------------------------------------->\n",
      "Does the points (1, 1) lies within the rectange ? True \n",
      "\n",
      "Does the points (-1, -1) lies within the rectange ? False \n",
      " \n",
      "\n",
      "<----------------------------------------- Answer 5.b -------------------------------------->\n",
      "Points (1, 1) does not lies in either of rectangle.\n"
     ]
    }
   ],
   "source": [
    "static bool inside(double x, double y, double x1, double y1, double x2, double y2)           // function\n",
    "{\n",
    "    if (x > x1 && x < x2 && y > y1 && y < y2)                        // condition for checking points in rectangle.\n",
    "    {\n",
    "        return true;\n",
    "    }\n",
    "    else\n",
    "    {\n",
    "        return false;\n",
    "    }\n",
    "}\n",
    "        \n",
    "\n",
    "Console.WriteLine(\"<----------------------------------------- Answer 5.a -------------------------------------->\");\n",
    "bool rectanlge1 = inside(1, 1, 0, 0, 2, 3);                            // calling function\n",
    "Console.WriteLine(\"Does the points (1, 1) lies within the rectange ? {0} \\n\", rectanlge1);\n",
    "bool rectanlge2 = inside(-1, -1, 0, 0, 2, 3);                          // calling function\n",
    "Console.WriteLine(\"Does the points (-1, -1) lies within the rectange ? {0} \\n \\n\", rectanlge2);\n",
    "\n",
    "\n",
    "Console.WriteLine(\"<----------------------------------------- Answer 5.b -------------------------------------->\");\n",
    "bool rectangle3 = inside(1, 1, 0.3, 0.5, 1.1, 0.7);                    // calling function       \n",
    "bool rectangle4 = inside(1, 1, 0.5, 0.2, 1.1, 2);\n",
    "if (rectangle3 == true && rectangle4 == true)\n",
    "{\n",
    "    Console.WriteLine(\"Points (1, 1) lies in both the rectangles.\");\n",
    "}\n",
    "else\n",
    "{\n",
    "    Console.WriteLine(\"Points (1, 1) does not lies in either of rectangle.\");\n",
    "}"
   ]
  },
  {
   "cell_type": "markdown",
   "metadata": {},
   "source": [
    "## `Question 6:`\n",
    "- You can turn a word into pig-Latin using the following two rules (simplified):\n",
    "    - If the word starts with a consonant, move that letter to the end and append 'ay'. For example, 'happy' becomes 'appyhay' and 'pencil' becomes 'encilpay'.\n",
    "    - If the word starts with a vowel, simply append 'way' to the end of the word. For example, 'enter' becomes 'enterway' and 'other' becomes 'otherway' . For our purposes, there are 5 vowels: a, e, i, o, u (so we count y as a consonant).\n",
    "\n",
    "### Write a function pig() that takes a word (i.e., a string) as input and returns its pig-Latin form. Your function should still work if the input word contains upper case characters. Your output should always be lower case however."
   ]
  },
  {
   "cell_type": "code",
   "execution_count": 1,
   "metadata": {},
   "outputs": [
    {
     "name": "stdout",
     "output_type": "stream",
     "text": [
      "Enter String: happy\n",
      "Pig Latin form of happy is: appyhay\n"
     ]
    }
   ],
   "source": [
    "string_input = input(\"Enter String: \").lower()                  # input from user\n",
    "\n",
    "def pig(text):\n",
    "    words = text.split()                                        # splitting text\n",
    "    pigLatin_text = []\n",
    "    \n",
    "    vowel = 'aeiou'\n",
    "    \n",
    "    for word in words:\n",
    "        if list(word)[0] in vowel:                              # checking first letter from input in vowel \n",
    "            word = word[:] + 'way'                              # if starts with vowel then \"input word + way\"\n",
    "            pigLatin_text.append(word)\n",
    "        else:\n",
    "            word = word[1:] + word[0] + 'ay'                    # if consonant then \"1st letter at end + rest letters + ay\"\n",
    "            pigLatin_text.append(word)\n",
    "\n",
    "    return ' '.join(pigLatin_text)\n",
    "\n",
    "\n",
    "print(\"Pig Latin form of \" + string_input + \" is: \" + pig(string_input))"
   ]
  },
  {
   "cell_type": "code",
   "execution_count": 2,
   "metadata": {},
   "outputs": [
    {
     "name": "stdout",
     "output_type": "stream",
     "text": [
      "Enter String: Enter\n",
      "Pig Latin form of enter is: enterway\n"
     ]
    }
   ],
   "source": [
    "string_input = input(\"Enter String: \").lower()                  # input from user\n",
    "\n",
    "def pig(text):\n",
    "    words = text.split()                                        # splitting text\n",
    "    pigLatin_text = []\n",
    "    \n",
    "    vowel = 'aeiou'\n",
    "    \n",
    "    for word in words:\n",
    "        if list(word)[0] in vowel:                              # checking first letter from input in vowel \n",
    "            word = word[:] + 'way'                              # if starts with vowel then \"input word + way\"\n",
    "            pigLatin_text.append(word)\n",
    "        else:\n",
    "            word = word[1:] + word[0] + 'ay'                    # if consonant then \"1st letter at end + rest letters + ay\"\n",
    "            pigLatin_text.append(word)\n",
    "\n",
    "    return ' '.join(pigLatin_text)\n",
    "\n",
    "\n",
    "print(\"Pig Latin form of \" + string_input + \" is: \" + pig(string_input))"
   ]
  },
  {
   "cell_type": "markdown",
   "metadata": {},
   "source": [
    "## `Question 7:`\n",
    "\n",
    "### File bloodtype1.txt records blood-types of patients (A, B, AB, O or OO) at a clinic. Write a function bldcount() that reads the file with name name and reports (i.e., prints) how many patients there are in each bloodtype."
   ]
  },
  {
   "cell_type": "code",
   "execution_count": 3,
   "metadata": {},
   "outputs": [
    {
     "name": "stdout",
     "output_type": "stream",
     "text": [
      "Number of words in text file : 44\n",
      "There are 13 patients of blood type AB.\n",
      "There are 1 patients of blood type B.\n",
      "There are 15 patients of blood type O.\n",
      "There are 15 patients of blood type A.\n"
     ]
    }
   ],
   "source": [
    "# Reading file.\n",
    "blood_file = open('D:/GEORGIAN/04 - Data Programming/Problem Set 1/bloodtype1.txt').read().split()\n",
    "print('Number of words in text file :', len(blood_file))\n",
    "\n",
    "def bldcount():\n",
    "    count = {}\n",
    "    for word in blood_file:\n",
    "        if word in count:\n",
    "            count[word] += 1\n",
    "        else:\n",
    "            count[word] = 1\n",
    "    for group, total in count.items():\n",
    "        print(\"There are %d patients of blood type %s.\" % (total, group))\n",
    "\n",
    "bldcount()"
   ]
  },
  {
   "cell_type": "markdown",
   "metadata": {},
   "source": [
    "## `Question 8:`\n",
    "\n",
    "### Write a function curconv() that takes as input:\n",
    "### 1. a currency represented using a string (e.g., 'JPY' for the Japanese Yen or 'EUR' for the Euro)\n",
    "### 2. an amount \n",
    "### and then converts and returns the amount in US dollars."
   ]
  },
  {
   "cell_type": "code",
   "execution_count": 4,
   "metadata": {},
   "outputs": [
    {
     "name": "stdout",
     "output_type": "stream",
     "text": [
      "AUD\t1.0345157\tAustralian Dollar\n",
      "CHF\t1.0237414\tSwiss Franc\n",
      "CNY\t0.1550176\tChinese Yuan\n",
      "DKK\t0.1651442\tDanish Krone\n",
      "EUR\t1.2296544\tEuro\n",
      "GBP\t1.5550989\tBritish Pound\n",
      "HKD\t0.1270207\tHong Kong Dollar\n",
      "INR\t0.0177643\tIndian Rupee\n",
      "JPY\t0.01241401\tJapanese Yen\n",
      "MXN\t0.0751848\tMexican Peso\n",
      "MYR\t0.3145411\tMalaysian Ringgit\n",
      "NOK\t0.1677063\tNorwegian Krone\n",
      "NZD\t0.8003591\tNew Zealand Dollar\n",
      "PHP\t0.0233234\tPhilippine Peso\n",
      "SEK\t0.148269\tSwedish Krona\n",
      "SGD\t0.788871\tSingapore Dollar\n",
      "THB\t0.0313789\tThai Baht\n",
      "\n",
      "Select a currency code from the list: eur\n",
      "Amount in US Dollars is:  122.96544\n"
     ]
    }
   ],
   "source": [
    "# Reading file.\n",
    "currency_file = open('D:/GEORGIAN/04 - Data Programming/Problem Set 1/currencies.txt').read()\n",
    "print(currency_file)\n",
    "\n",
    "def curconv():                                                           # fucntion\n",
    "    List = currency_file.split()                                         # splitting words\n",
    "    cur_code = input(\"\\nSelect a currency code from the list: \")\n",
    "    cur_code = cur_code.upper()                                          # lower to uper case\n",
    "    if (cur_code in List):\n",
    "        index_increment = List.index(cur_code) + 1                       # selecting 2nd index\n",
    "        cur_convertor = float(List[index_increment]) * 100               # multipling currency amount with 100\n",
    "    else:\n",
    "        print(\"Invalid currency code!\")\n",
    "    return cur_convertor\n",
    "\n",
    "print(\"Amount in US Dollars is: \", curconv())"
   ]
  },
  {
   "cell_type": "markdown",
   "metadata": {},
   "source": [
    "## `Question 9:`\n",
    "\n",
    "### Each of the following will cause an exception (an error). Identify what type of exception each will cause."
   ]
  },
  {
   "cell_type": "markdown",
   "metadata": {},
   "source": [
    "**A) Trying to add incompatible variables, as in adding 6 + ‘a’**\n",
    "- Answer: Identifier Error"
   ]
  },
  {
   "cell_type": "code",
   "execution_count": 5,
   "metadata": {
    "scrolled": true
   },
   "outputs": [
    {
     "ename": "SyntaxError",
     "evalue": "invalid character in identifier (<ipython-input-5-5d92401daa02>, line 1)",
     "output_type": "error",
     "traceback": [
      "\u001b[1;36m  File \u001b[1;32m\"<ipython-input-5-5d92401daa02>\"\u001b[1;36m, line \u001b[1;32m1\u001b[0m\n\u001b[1;33m    6 + ‘a’\u001b[0m\n\u001b[1;37m          ^\u001b[0m\n\u001b[1;31mSyntaxError\u001b[0m\u001b[1;31m:\u001b[0m invalid character in identifier\n"
     ]
    }
   ],
   "source": [
    "6 + ‘a’"
   ]
  },
  {
   "cell_type": "markdown",
   "metadata": {},
   "source": [
    "**B) Referring to the 12th item of a list that has only 10 items**\n",
    "- Answer: Index Error"
   ]
  },
  {
   "cell_type": "code",
   "execution_count": 6,
   "metadata": {},
   "outputs": [
    {
     "ename": "IndexError",
     "evalue": "list index out of range",
     "output_type": "error",
     "traceback": [
      "\u001b[1;31m---------------------------------------------------------------------------\u001b[0m",
      "\u001b[1;31mIndexError\u001b[0m                                Traceback (most recent call last)",
      "\u001b[1;32m<ipython-input-6-05ca741c4504>\u001b[0m in \u001b[0;36m<module>\u001b[1;34m\u001b[0m\n\u001b[0;32m      1\u001b[0m \u001b[0mletter\u001b[0m \u001b[1;33m=\u001b[0m \u001b[1;33m[\u001b[0m\u001b[1;34m'a'\u001b[0m\u001b[1;33m,\u001b[0m \u001b[1;34m'b'\u001b[0m\u001b[1;33m,\u001b[0m \u001b[1;34m'c'\u001b[0m\u001b[1;33m,\u001b[0m \u001b[1;34m'd'\u001b[0m\u001b[1;33m,\u001b[0m \u001b[1;34m'e'\u001b[0m\u001b[1;33m,\u001b[0m \u001b[1;34m'f'\u001b[0m\u001b[1;33m,\u001b[0m \u001b[1;34m'g'\u001b[0m\u001b[1;33m,\u001b[0m \u001b[1;34m'h'\u001b[0m\u001b[1;33m,\u001b[0m \u001b[1;34m'i'\u001b[0m\u001b[1;33m,\u001b[0m \u001b[1;34m'j'\u001b[0m\u001b[1;33m]\u001b[0m\u001b[1;33m\u001b[0m\u001b[1;33m\u001b[0m\u001b[0m\n\u001b[1;32m----> 2\u001b[1;33m \u001b[0mletter\u001b[0m\u001b[1;33m[\u001b[0m\u001b[1;36m12\u001b[0m\u001b[1;33m]\u001b[0m\u001b[1;33m\u001b[0m\u001b[1;33m\u001b[0m\u001b[0m\n\u001b[0m",
      "\u001b[1;31mIndexError\u001b[0m: list index out of range"
     ]
    }
   ],
   "source": [
    "letter = ['a', 'b', 'c', 'd', 'e', 'f', 'g', 'h', 'i', 'j']\n",
    "letter[12]"
   ]
  },
  {
   "cell_type": "markdown",
   "metadata": {},
   "source": [
    "**C) Using a value that is out of range for a function’s input, such as calling math.sqrt( 1.0)**\n",
    "- Answer: Maths Domain Error"
   ]
  },
  {
   "cell_type": "code",
   "execution_count": 7,
   "metadata": {},
   "outputs": [
    {
     "ename": "ValueError",
     "evalue": "math domain error",
     "output_type": "error",
     "traceback": [
      "\u001b[1;31m---------------------------------------------------------------------------\u001b[0m",
      "\u001b[1;31mValueError\u001b[0m                                Traceback (most recent call last)",
      "\u001b[1;32m<ipython-input-7-8956a835fc63>\u001b[0m in \u001b[0;36m<module>\u001b[1;34m\u001b[0m\n\u001b[0;32m      1\u001b[0m \u001b[1;32mimport\u001b[0m \u001b[0mmath\u001b[0m\u001b[1;33m\u001b[0m\u001b[1;33m\u001b[0m\u001b[0m\n\u001b[1;32m----> 2\u001b[1;33m \u001b[0mmath\u001b[0m\u001b[1;33m.\u001b[0m\u001b[0msqrt\u001b[0m\u001b[1;33m(\u001b[0m\u001b[1;33m-\u001b[0m\u001b[1;36m1\u001b[0m\u001b[1;33m)\u001b[0m\u001b[1;33m\u001b[0m\u001b[1;33m\u001b[0m\u001b[0m\n\u001b[0m",
      "\u001b[1;31mValueError\u001b[0m: math domain error"
     ]
    }
   ],
   "source": [
    "import math\n",
    "math.sqrt(-1)"
   ]
  },
  {
   "cell_type": "markdown",
   "metadata": {},
   "source": [
    "**D) Using an undeclared variable, such as print(x) when x has not been defined**\n",
    "- Answer: Undefined Name Error"
   ]
  },
  {
   "cell_type": "code",
   "execution_count": 8,
   "metadata": {
    "scrolled": false
   },
   "outputs": [
    {
     "ename": "NameError",
     "evalue": "name 'x' is not defined",
     "output_type": "error",
     "traceback": [
      "\u001b[1;31m---------------------------------------------------------------------------\u001b[0m",
      "\u001b[1;31mNameError\u001b[0m                                 Traceback (most recent call last)",
      "\u001b[1;32m<ipython-input-8-fc17d851ef81>\u001b[0m in \u001b[0;36m<module>\u001b[1;34m\u001b[0m\n\u001b[1;32m----> 1\u001b[1;33m \u001b[0mprint\u001b[0m\u001b[1;33m(\u001b[0m\u001b[0mx\u001b[0m\u001b[1;33m)\u001b[0m\u001b[1;33m\u001b[0m\u001b[1;33m\u001b[0m\u001b[0m\n\u001b[0m",
      "\u001b[1;31mNameError\u001b[0m: name 'x' is not defined"
     ]
    }
   ],
   "source": [
    "print(x)"
   ]
  },
  {
   "cell_type": "markdown",
   "metadata": {},
   "source": [
    "**E) Trying to open a file that does not exist, such as mistyping the file name or looking in the wrong directory.**\n",
    "- Answer: FileNotFound Error"
   ]
  },
  {
   "cell_type": "code",
   "execution_count": 9,
   "metadata": {},
   "outputs": [
    {
     "ename": "FileNotFoundError",
     "evalue": "[Errno 2] No such file or directory: 'D:/GEORGIAN/04 - Data Programming/Problem Set 1/currency.txt'",
     "output_type": "error",
     "traceback": [
      "\u001b[1;31m---------------------------------------------------------------------------\u001b[0m",
      "\u001b[1;31mFileNotFoundError\u001b[0m                         Traceback (most recent call last)",
      "\u001b[1;32m<ipython-input-9-5c4b60efee02>\u001b[0m in \u001b[0;36m<module>\u001b[1;34m\u001b[0m\n\u001b[1;32m----> 1\u001b[1;33m \u001b[0mcurrency_file\u001b[0m \u001b[1;33m=\u001b[0m \u001b[0mopen\u001b[0m\u001b[1;33m(\u001b[0m\u001b[1;34m'D:/GEORGIAN/04 - Data Programming/Problem Set 1/currency.txt'\u001b[0m\u001b[1;33m)\u001b[0m\u001b[1;33m.\u001b[0m\u001b[0mread\u001b[0m\u001b[1;33m(\u001b[0m\u001b[1;33m)\u001b[0m\u001b[1;33m\u001b[0m\u001b[1;33m\u001b[0m\u001b[0m\n\u001b[0m\u001b[0;32m      2\u001b[0m \u001b[0mprint\u001b[0m\u001b[1;33m(\u001b[0m\u001b[0mcurrency_file\u001b[0m\u001b[1;33m)\u001b[0m\u001b[1;33m\u001b[0m\u001b[1;33m\u001b[0m\u001b[0m\n",
      "\u001b[1;31mFileNotFoundError\u001b[0m: [Errno 2] No such file or directory: 'D:/GEORGIAN/04 - Data Programming/Problem Set 1/currency.txt'"
     ]
    }
   ],
   "source": [
    "currency_file = open('D:/GEORGIAN/04 - Data Programming/Problem Set 1/currency.txt').read()\n",
    "print(currency_file)"
   ]
  },
  {
   "cell_type": "markdown",
   "metadata": {},
   "source": [
    "## `Question 10:`\n",
    "- Encryption is the process of hiding the meaning of a text by substituting letters in the message with other letters, according to some system. If the process is successful, no one but the intended recipient can understand the encrypted message. Cryptanalysis refers to attempts to undo the encryption, even if some details of the encryption are unknown (for example, if an encrypted message has been intercepted). The first step of cryptanalysis is often to build up a table of letter frequencies in the encrypted text. Assume that the string letters is already defined as 'abcdefghijklmnopqrstuvwxyz'.\n",
    "\n",
    "### Write a function called frequencies() that takes a string as its only parameter, and returns a list of integers, showing the number of times each character appears in the text. Your function may ignore any characters that are not in letters."
   ]
  },
  {
   "cell_type": "code",
   "execution_count": 10,
   "metadata": {},
   "outputs": [
    {
     "name": "stdout",
     "output_type": "stream",
     "text": [
      "Enter a String: apple\n",
      "1\n",
      "0\n",
      "0\n",
      "0\n",
      "1\n",
      "0\n",
      "0\n",
      "0\n",
      "0\n",
      "0\n",
      "0\n",
      "1\n",
      "0\n",
      "0\n",
      "0\n",
      "2\n",
      "0\n",
      "0\n",
      "0\n",
      "0\n",
      "0\n",
      "0\n",
      "0\n",
      "0\n",
      "0\n",
      "0\n"
     ]
    }
   ],
   "source": [
    "def frequencies():                                         # fucntion\n",
    "    text = input(\"Enter a String: \")\n",
    "    letters = \"abcdefghijklmnopqrstuvwxyz\"                 # string for counting letters\n",
    "    length = len(letters)                                  # length of string\n",
    "    for i in range(0, length):\n",
    "        count_letter = text.count(letters[i])              # counting entered string with letters\n",
    "        print(count_letter)\n",
    "\n",
    "frequencies()"
   ]
  }
 ],
 "metadata": {
  "kernelspec": {
   "display_name": "Python 3",
   "language": "python",
   "name": "python3"
  },
  "language_info": {
   "codemirror_mode": {
    "name": "ipython",
    "version": 3
   },
   "file_extension": ".py",
   "mimetype": "text/x-python",
   "name": "python",
   "nbconvert_exporter": "python",
   "pygments_lexer": "ipython3",
   "version": "3.7.9"
  }
 },
 "nbformat": 4,
 "nbformat_minor": 4
}
